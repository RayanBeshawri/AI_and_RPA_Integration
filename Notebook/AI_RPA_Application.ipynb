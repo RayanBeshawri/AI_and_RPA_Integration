{
 "cells": [
  {
   "cell_type": "markdown",
   "metadata": {
    "id": "2rzw2rhb-ZcL"
   },
   "source": [
    "# **1. Libraries Installation**"
   ]
  },
  {
   "cell_type": "code",
   "execution_count": null,
   "metadata": {
    "colab": {
     "base_uri": "https://localhost:8080/"
    },
    "collapsed": true,
    "executionInfo": {
     "elapsed": 23138,
     "status": "ok",
     "timestamp": 1721570148531,
     "user": {
      "displayName": "ريان بشاوري",
      "userId": "17931216322355846116"
     },
     "user_tz": -180
    },
    "id": "DFaaROfWkvQF",
    "outputId": "5a2224ce-bf63-4a62-c3da-c0f16391556e"
   },
   "outputs": [],
   "source": [
    "!sudo apt-get install tesseract-ocr\n",
    "!pip install pytesseract\n",
    "!pip install pdf2image\n",
    "!pip install faker"
   ]
  },
  {
   "cell_type": "markdown",
   "metadata": {
    "id": "s5caS8My-hj1"
   },
   "source": [
    "# **2. Fake ID's Generator**"
   ]
  },
  {
   "cell_type": "code",
   "execution_count": null,
   "metadata": {
    "colab": {
     "base_uri": "https://localhost:8080/"
    },
    "collapsed": true,
    "executionInfo": {
     "elapsed": 23099,
     "status": "ok",
     "timestamp": 1721652364507,
     "user": {
      "displayName": "ريان بشاوري",
      "userId": "17931216322355846116"
     },
     "user_tz": -180
    },
    "id": "QOYCCnMqUFso",
    "outputId": "a6289942-e0bb-4389-ec67-93d6dd70b59e"
   },
   "outputs": [],
   "source": [
    "import pytesseract\n",
    "import re\n",
    "from PIL import Image, ImageDraw, ImageFont\n",
    "from pdf2image import convert_from_path\n",
    "from faker import Faker\n",
    "import random\n",
    "\n",
    "# Define regex patterns\n",
    "name_pattern = r'\\b[A-Z]+\\s[A-Z]\\.\\s[A-Z]+\\b'\n",
    "expiry_pattern = r'EXP:\\s\\d{2}/\\d{2}/\\d{4}'\n",
    "\n",
    "def extract_information(image_path):\n",
    "    img = Image.open(image_path)\n",
    "    text = pytesseract.image_to_string(img)\n",
    "\n",
    "    # Extract name and expiration date\n",
    "    name_match = re.search(name_pattern, text)\n",
    "    expiry_match = re.search(expiry_pattern, text)\n",
    "\n",
    "    name = name_match.group() if name_match else None\n",
    "    expiry_date = expiry_match.group().replace('EXP: ', '') if expiry_match else None\n",
    "\n",
    "    return name, expiry_date\n",
    "\n",
    "# Convert PDF to Image\n",
    "pdf_path = 'path/to/your/file'\n",
    "img = convert_from_path(pdf_path)[0]  # Convert the first page to image\n",
    "image_path = 'path/to/your/file'\n",
    "img.save(image_path)\n",
    "\n",
    "# Extract current name and expiry date\n",
    "current_name, current_expiry_date = extract_information(image_path)\n",
    "print(f\"Current Name: {current_name}\")\n",
    "print(f\"Current Expiry Date: {current_expiry_date}\")\n",
    "\n",
    "# Initialize Faker\n",
    "fake = Faker()\n",
    "\n",
    "def generate_random_name():\n",
    "    return f\"{fake.last_name().upper()} {fake.first_name().upper()[0]}. {fake.last_name().upper()}\"\n",
    "\n",
    "def generate_random_expiry_date():\n",
    "    return f\"{random.randint(1, 28):02}/{random.randint(1, 12):02}/{random.randint(2024, 2035)}\"\n",
    "\n",
    "def overlay_text_on_image(image_path, name, expiry_date, output_path, font_path):\n",
    "    img = Image.open(image_path)\n",
    "    draw = ImageDraw.Draw(img)\n",
    "\n",
    "    # Load a TrueType font with a specified size\n",
    "    font_size = 90  # Adjust the size as needed\n",
    "    font = ImageFont.truetype(font_path, size=font_size)\n",
    "\n",
    "    # Positions for old text (adjust these coordinates based on your ID layout)\n",
    "    old_name_position = (100, 1480)\n",
    "    old_expiry_position = (270, 2000)\n",
    "\n",
    "    # Color for the white rectangle (to cover old text)\n",
    "    white = (255, 255, 255)\n",
    "\n",
    "    # Size of the white rectangles to cover old text (adjust as needed)\n",
    "    name_width, name_height = draw.textsize('EXAMPLE NAME                      ', font=font)  # Example text to get size\n",
    "    expiry_width, expiry_height = draw.textsize('EXP: 12/12/2025', font=font)  # Example text to get size\n",
    "\n",
    "    # Draw white rectangles to cover old text\n",
    "    draw.rectangle([old_name_position, (old_name_position[0] + name_width, old_name_position[1] + name_height + 25)], fill=white)\n",
    "    draw.rectangle([old_expiry_position, (old_expiry_position[0] + expiry_width, old_expiry_position[1] + expiry_height + 15)], fill=white)\n",
    "\n",
    "    # New positions for text\n",
    "    new_name_position = old_name_position\n",
    "    new_expiry_position = old_expiry_position\n",
    "\n",
    "    # Color for the new text\n",
    "    color = 'blue'\n",
    "\n",
    "    draw.text(new_name_position, name, fill=color, font=font)\n",
    "    draw.text(new_expiry_position, f\"EXP: {expiry_date}\", fill=color, font=font)\n",
    "\n",
    "    img.save(output_path)\n",
    "\n",
    "def save_image_as_pdf(image_path, pdf_path):\n",
    "    img = Image.open(image_path)\n",
    "    img.convert('RGB').save(pdf_path, 'PDF')\n",
    "\n",
    "# Example usage\n",
    "font_path = '/content/Arial.ttf'  # Path to the uploaded font file\n",
    "for i in range(10):  # Generate 5 examples\n",
    "    new_name = generate_random_name()\n",
    "    new_expiry_date = generate_random_expiry_date()\n",
    "    output_image_path = f'/content/generated_id_{i+1}.png'\n",
    "    output_pdf_path = f'/content/generated_id_{i+1}.pdf'\n",
    "    overlay_text_on_image(image_path, new_name, new_expiry_date, output_image_path, font_path)\n",
    "    save_image_as_pdf(output_image_path, output_pdf_path)\n",
    "    print(f'Generated ID saved at: {output_pdf_path}')"
   ]
  },
  {
   "cell_type": "markdown",
   "metadata": {
    "id": "DhPNEUpm-o4x"
   },
   "source": [
    "# **3. Extraction and Matching**"
   ]
  },
  {
   "cell_type": "code",
   "execution_count": null,
   "metadata": {
    "colab": {
     "base_uri": "https://localhost:8080/"
    },
    "executionInfo": {
     "elapsed": 2484,
     "status": "ok",
     "timestamp": 1721652252242,
     "user": {
      "displayName": "ريان بشاوري",
      "userId": "17931216322355846116"
     },
     "user_tz": -180
    },
    "id": "7UAklSSTk2yF",
    "outputId": "c84f4f69-4360-43fa-eee1-ad93c39bcf50"
   },
   "outputs": [],
   "source": [
    "import pytesseract\n",
    "from pdf2image import convert_from_path\n",
    "import re\n",
    "from datetime import datetime, timedelta\n",
    "import cv2\n",
    "import numpy as np  # for handling potential image formats\n",
    "\n",
    "def extract_text_from_pdf(pdf_path):\n",
    "    images = convert_from_path(pdf_path)\n",
    "    text = ''\n",
    "    for img in images:\n",
    "        # Check image format and convert if necessary\n",
    "        if type(img) == np.ndarray:\n",
    "            # Regular PDF content, proceed with OpenCV\n",
    "            gray = cv2.cvtColor(img, cv2.COLOR_BGR2GRAY)\n",
    "        else:\n",
    "            # Likely embedded image, convert to NumPy array\n",
    "            img_array = np.array(img)\n",
    "            gray = cv2.cvtColor(img_array, cv2.COLOR_BGR2GRAY)\n",
    "\n",
    "        thresh = cv2.threshold(gray, 0, 255, cv2.THRESH_BINARY + cv2.THRESH_OTSU)[1]\n",
    "        text += pytesseract.image_to_string(thresh, config='--psm 6')  # Page layout for single block\n",
    "    return text\n",
    "\n",
    "def extract_employee_info(text):\n",
    "    # Updated name pattern\n",
    "    name_pattern = r'\\b[A-Z]+\\s[A-Z]\\.\\s[A-Z]+\\b'\n",
    "    expiry_pattern = r'EXP:\\s\\d{2}/\\d{2}/\\d{4}'\n",
    "\n",
    "    name_match = re.search(name_pattern, text)\n",
    "    expiry_match = re.search(expiry_pattern, text)\n",
    "\n",
    "    if name_match and expiry_match:\n",
    "        full_name = name_match.group(0).strip()\n",
    "        expiry_date = expiry_match.group(0).strip()\n",
    "        return full_name, expiry_date\n",
    "    return None, None\n",
    "\n",
    "def julian_to_gregorian(julian_date_str):\n",
    "    # Extract year and day of the year\n",
    "    year = '20' + julian_date_str[:2]\n",
    "    day_of_year = int(julian_date_str[2:])\n",
    "\n",
    "    # Convert to Gregorian date\n",
    "    date = datetime(int(year), 1, 1) + timedelta(days=day_of_year - 1)\n",
    "    return date.strftime('EXP: %d/%m/%Y')\n",
    "\n",
    "def main(pdf_path, ticket_first_name, ticket_father_initial, ticket_last_name, ticket_julian_expiry):\n",
    "    pdf_text = extract_text_from_pdf(pdf_path)\n",
    "    print(pdf_text)\n",
    "    full_name, expiry_date = extract_employee_info(pdf_text)\n",
    "    print(full_name, expiry_date)\n",
    "    if full_name and expiry_date:\n",
    "        # Combine ticket information for matching\n",
    "        ticket_full_name = f\"{ticket_first_name} {ticket_father_initial}. {ticket_last_name}\"\n",
    "\n",
    "        # Convert ticket Julian expiry date to Gregorian date for comparison\n",
    "        ticket_expiry_date = julian_to_gregorian(ticket_julian_expiry)\n",
    "        print(ticket_full_name, ticket_expiry_date)\n",
    "        if full_name == ticket_full_name and expiry_date == ticket_expiry_date:\n",
    "            return \"Match Found\"\n",
    "        else:\n",
    "            return \"No Match Found\"\n",
    "    return \"Extraction Failed\"\n",
    "\n",
    "# Update this path with the actual path to your PDF file\n",
    "pdf_path = \"path/to/your/file.pdf\"\n",
    "ticket_first_name = \"RAYAN\"\n",
    "ticket_father_initial = \"N\"\n",
    "ticket_last_name = \"BESHAWRI\"\n",
    "ticket_julian_expiry = \"24221\"\n",
    "\n",
    "result = main(pdf_path, ticket_first_name, ticket_father_initial, ticket_last_name, ticket_julian_expiry)\n",
    "print(result)"
   ]
  },
  {
   "cell_type": "markdown",
   "metadata": {
    "id": "WOz71T3y-wYq"
   },
   "source": [
    "# **Test 1**"
   ]
  },
  {
   "cell_type": "code",
   "execution_count": null,
   "metadata": {
    "colab": {
     "base_uri": "https://localhost:8080/"
    },
    "executionInfo": {
     "elapsed": 5752,
     "status": "ok",
     "timestamp": 1721652523379,
     "user": {
      "displayName": "ريان بشاوري",
      "userId": "17931216322355846116"
     },
     "user_tz": -180
    },
    "id": "B6DRWHvnZ_CD",
    "outputId": "a6a76c78-d005-49ad-b6d8-4c0b4b236f13"
   },
   "outputs": [],
   "source": [
    "# Update this path with the actual path to your PDF file\n",
    "pdf_path = \"path/to/your/file.pdf\"\n",
    "ticket_first_name = \"MAHONEY\"\n",
    "ticket_father_initial = \"J\"\n",
    "ticket_last_name = \"REID\"\n",
    "ticket_julian_expiry = \"24109\"\n",
    "\n",
    "result = main(pdf_path, ticket_first_name, ticket_father_initial, ticket_last_name, ticket_julian_expiry)\n",
    "print(result)"
   ]
  },
  {
   "cell_type": "markdown",
   "metadata": {
    "id": "IgrGsh9Q-0Tv"
   },
   "source": [
    "# **Test 2**"
   ]
  },
  {
   "cell_type": "code",
   "execution_count": null,
   "metadata": {
    "colab": {
     "base_uri": "https://localhost:8080/"
    },
    "executionInfo": {
     "elapsed": 3741,
     "status": "ok",
     "timestamp": 1721652527116,
     "user": {
      "displayName": "ريان بشاوري",
      "userId": "17931216322355846116"
     },
     "user_tz": -180
    },
    "id": "kqhtRp29aqWK",
    "outputId": "e425b890-d9f9-4e1d-f89d-7030fff16e5d"
   },
   "outputs": [],
   "source": [
    "# Update this path with the actual path to your PDF file\n",
    "pdf_path = \"path/to/your/file.pdf\"\n",
    "ticket_first_name = \"PEREZ\"\n",
    "ticket_father_initial = \"J\"\n",
    "ticket_last_name = \"ORTEGA\"\n",
    "ticket_julian_expiry = \"28081\"\n",
    "\n",
    "result = main(pdf_path, ticket_first_name, ticket_father_initial, ticket_last_name, ticket_julian_expiry)\n",
    "print(result)"
   ]
  },
  {
   "cell_type": "markdown",
   "metadata": {
    "id": "8k3Cl0EV-2cL"
   },
   "source": [
    "# **Test 3**"
   ]
  },
  {
   "cell_type": "code",
   "execution_count": null,
   "metadata": {
    "colab": {
     "base_uri": "https://localhost:8080/"
    },
    "executionInfo": {
     "elapsed": 4134,
     "status": "ok",
     "timestamp": 1721652596599,
     "user": {
      "displayName": "ريان بشاوري",
      "userId": "17931216322355846116"
     },
     "user_tz": -180
    },
    "id": "IENqO_FafJ0b",
    "outputId": "c561ac77-6f61-4713-fe1d-d752893f8455"
   },
   "outputs": [],
   "source": [
    "# Update this path with the actual path to your PDF file\n",
    "pdf_path = \"path/to/your/file.pdf\"\n",
    "ticket_first_name = \"VILLEGAS\"\n",
    "ticket_father_initial = \"M\"\n",
    "ticket_last_name = \"EDWARDS\"\n",
    "ticket_julian_expiry = \"31126\"\n",
    "\n",
    "result = main(pdf_path, ticket_first_name, ticket_father_initial, ticket_last_name, ticket_julian_expiry)\n",
    "print(result)"
   ]
  },
  {
   "cell_type": "markdown",
   "metadata": {
    "id": "qrlD22-N-4EQ"
   },
   "source": [
    "# **Test 4**"
   ]
  },
  {
   "cell_type": "code",
   "execution_count": null,
   "metadata": {
    "colab": {
     "base_uri": "https://localhost:8080/"
    },
    "executionInfo": {
     "elapsed": 3797,
     "status": "ok",
     "timestamp": 1721652656508,
     "user": {
      "displayName": "ريان بشاوري",
      "userId": "17931216322355846116"
     },
     "user_tz": -180
    },
    "id": "sdER0_ysfb2e",
    "outputId": "33dee274-1270-4980-83fd-d1ca8e2c3b97"
   },
   "outputs": [],
   "source": [
    "# Update this path with the actual path to your PDF file\n",
    "pdf_path = \"path/to/your/file.pdf\"\n",
    "ticket_first_name = \"MANN\"\n",
    "ticket_father_initial = \"J\"\n",
    "ticket_last_name = \"PERRY\"\n",
    "ticket_julian_expiry = \"34318\"\n",
    "\n",
    "result = main(pdf_path, ticket_first_name, ticket_father_initial, ticket_last_name, ticket_julian_expiry)\n",
    "print(result)"
   ]
  },
  {
   "cell_type": "markdown",
   "metadata": {
    "id": "EE32PSOp-5mA"
   },
   "source": [
    "# **Test 5**"
   ]
  },
  {
   "cell_type": "code",
   "execution_count": null,
   "metadata": {
    "colab": {
     "base_uri": "https://localhost:8080/"
    },
    "executionInfo": {
     "elapsed": 5960,
     "status": "ok",
     "timestamp": 1721652716762,
     "user": {
      "displayName": "ريان بشاوري",
      "userId": "17931216322355846116"
     },
     "user_tz": -180
    },
    "id": "4xok3uyNfqiO",
    "outputId": "361ea5a4-a198-44b7-92a8-623211b6eb90"
   },
   "outputs": [],
   "source": [
    "# Update this path with the actual path to your PDF file\n",
    "pdf_path = \"path/to/your/file.pdf\"\n",
    "ticket_first_name = \"CALHOUN\"\n",
    "ticket_father_initial = \"M\"\n",
    "ticket_last_name = \"SMITH\"\n",
    "ticket_julian_expiry = \"26112\"\n",
    "\n",
    "result = main(pdf_path, ticket_first_name, ticket_father_initial, ticket_last_name, ticket_julian_expiry)\n",
    "print(result)"
   ]
  },
  {
   "cell_type": "markdown",
   "metadata": {
    "id": "5ib2RpCP-7KI"
   },
   "source": [
    "# **Test 6**"
   ]
  },
  {
   "cell_type": "code",
   "execution_count": null,
   "metadata": {
    "colab": {
     "base_uri": "https://localhost:8080/"
    },
    "executionInfo": {
     "elapsed": 4315,
     "status": "ok",
     "timestamp": 1721652778622,
     "user": {
      "displayName": "ريان بشاوري",
      "userId": "17931216322355846116"
     },
     "user_tz": -180
    },
    "id": "4-xQzdC5f4vK",
    "outputId": "36523427-6875-469a-ae0f-c2fe47830ede"
   },
   "outputs": [],
   "source": [
    "# Update this path with the actual path to your PDF file\n",
    "pdf_path = \"path/to/your/file.pdf\"\n",
    "ticket_first_name = \"NEAL\"\n",
    "ticket_father_initial = \"N\"\n",
    "ticket_last_name = \"STEWART\"\n",
    "ticket_julian_expiry = \"33112\"\n",
    "\n",
    "result = main(pdf_path, ticket_first_name, ticket_father_initial, ticket_last_name, ticket_julian_expiry)\n",
    "print(result)"
   ]
  },
  {
   "cell_type": "markdown",
   "metadata": {
    "id": "wvXZdp7d-8ra"
   },
   "source": [
    "# **Test 7**"
   ]
  },
  {
   "cell_type": "code",
   "execution_count": null,
   "metadata": {
    "colab": {
     "base_uri": "https://localhost:8080/"
    },
    "executionInfo": {
     "elapsed": 3826,
     "status": "ok",
     "timestamp": 1721652834206,
     "user": {
      "displayName": "ريان بشاوري",
      "userId": "17931216322355846116"
     },
     "user_tz": -180
    },
    "id": "Pbv2ec37gIIy",
    "outputId": "d0fb17bb-1d45-423d-9034-08265f1597dd"
   },
   "outputs": [],
   "source": [
    "# Update this path with the actual path to your PDF file\n",
    "pdf_path = \"path/to/your/file.pdf\"\n",
    "ticket_first_name = \"DELEON\"\n",
    "ticket_father_initial = \"R\"\n",
    "ticket_last_name = \"MOORE\"\n",
    "ticket_julian_expiry = \"28141\"\n",
    "\n",
    "result = main(pdf_path, ticket_first_name, ticket_father_initial, ticket_last_name, ticket_julian_expiry)\n",
    "print(result)"
   ]
  },
  {
   "cell_type": "markdown",
   "metadata": {
    "id": "vBbXq0HT--DW"
   },
   "source": [
    "# **Test 8**"
   ]
  },
  {
   "cell_type": "code",
   "execution_count": null,
   "metadata": {
    "colab": {
     "base_uri": "https://localhost:8080/"
    },
    "executionInfo": {
     "elapsed": 3898,
     "status": "ok",
     "timestamp": 1721652900297,
     "user": {
      "displayName": "ريان بشاوري",
      "userId": "17931216322355846116"
     },
     "user_tz": -180
    },
    "id": "xxBiO7qbgV6x",
    "outputId": "af497220-9fb2-402e-c83b-fa4b01d4c9d9"
   },
   "outputs": [],
   "source": [
    "# Update this path with the actual path to your PDF file\n",
    "pdf_path = \"path/to/your/file.pdf\"\n",
    "ticket_first_name = \"HARPER\"\n",
    "ticket_father_initial = \"S\"\n",
    "ticket_last_name = \"JOHNSON\"\n",
    "ticket_julian_expiry = \"29320\"\n",
    "\n",
    "result = main(pdf_path, ticket_first_name, ticket_father_initial, ticket_last_name, ticket_julian_expiry)\n",
    "print(result)"
   ]
  },
  {
   "cell_type": "markdown",
   "metadata": {
    "id": "EMqzD5oZ-_en"
   },
   "source": [
    "# **Test 9**"
   ]
  },
  {
   "cell_type": "code",
   "execution_count": null,
   "metadata": {
    "colab": {
     "base_uri": "https://localhost:8080/"
    },
    "executionInfo": {
     "elapsed": 5656,
     "status": "ok",
     "timestamp": 1721652956236,
     "user": {
      "displayName": "ريان بشاوري",
      "userId": "17931216322355846116"
     },
     "user_tz": -180
    },
    "id": "C3SSpFKPgmDO",
    "outputId": "9ea5c607-13f6-4c4d-9745-21acea5d3c98"
   },
   "outputs": [],
   "source": [
    "# Update this path with the actual path to your PDF file\n",
    "pdf_path = \"path/to/your/file.pdf\"\n",
    "ticket_first_name = \"WHITE\"\n",
    "ticket_father_initial = \"A\"\n",
    "ticket_last_name = \"GRAVES\"\n",
    "ticket_julian_expiry = \"26276\"\n",
    "\n",
    "result = main(pdf_path, ticket_first_name, ticket_father_initial, ticket_last_name, ticket_julian_expiry)\n",
    "print(result)"
   ]
  },
  {
   "cell_type": "markdown",
   "metadata": {
    "id": "YbnvsvjN_A21"
   },
   "source": [
    "# **Test 10**"
   ]
  },
  {
   "cell_type": "code",
   "execution_count": null,
   "metadata": {
    "colab": {
     "base_uri": "https://localhost:8080/"
    },
    "executionInfo": {
     "elapsed": 5323,
     "status": "ok",
     "timestamp": 1721653009277,
     "user": {
      "displayName": "ريان بشاوري",
      "userId": "17931216322355846116"
     },
     "user_tz": -180
    },
    "id": "fE1rScMogzRl",
    "outputId": "c4908251-1459-4c4d-f432-201da56630ab"
   },
   "outputs": [],
   "source": [
    "# Update this path with the actual path to your PDF file\n",
    "pdf_path = \"path/to/your/file.pdf\"\n",
    "ticket_first_name = \"DAVIS\"\n",
    "ticket_father_initial = \"P\"\n",
    "ticket_last_name = \"ROSS\"\n",
    "ticket_julian_expiry = \"27023\"\n",
    "\n",
    "result = main(pdf_path, ticket_first_name, ticket_father_initial, ticket_last_name, ticket_julian_expiry)\n",
    "print(result)"
   ]
  },
  {
   "cell_type": "code",
   "execution_count": null,
   "metadata": {
    "id": "IPfl7gfThATR"
   },
   "outputs": [],
   "source": []
  }
 ],
 "metadata": {
  "colab": {
   "authorship_tag": "ABX9TyM5yD7tDoV47ihaBsv0asgy",
   "provenance": []
  },
  "kernelspec": {
   "display_name": "Python 3",
   "name": "python3"
  },
  "language_info": {
   "name": "python"
  }
 },
 "nbformat": 4,
 "nbformat_minor": 0
}
